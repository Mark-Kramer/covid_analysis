{
 "cells": [
  {
   "cell_type": "code",
   "execution_count": 39,
   "metadata": {},
   "outputs": [],
   "source": [
    "import pandas as pd\n",
    "import matplotlib.pyplot as plt\n",
    "from datetime import date\n",
    "import os"
   ]
  },
  {
   "cell_type": "markdown",
   "metadata": {},
   "source": [
    "Download today's data"
   ]
  },
  {
   "cell_type": "code",
   "execution_count": 46,
   "metadata": {},
   "outputs": [
    {
     "name": "stdout",
     "output_type": "stream",
     "text": [
      "--2020-03-19 10:36:58--  https://www.ecdc.europa.eu/sites/default/files/documents/COVID-19-geographic-disbtribution-worldwide-2020-03-19.xlsx\n",
      "Resolving www.ecdc.europa.eu (www.ecdc.europa.eu)... 2600:9000:20ea:da00:1d:d83a:40c0:93a1, 2600:9000:20ea:7400:1d:d83a:40c0:93a1, 2600:9000:20ea:f400:1d:d83a:40c0:93a1, ...\n",
      "Connecting to www.ecdc.europa.eu (www.ecdc.europa.eu)|2600:9000:20ea:da00:1d:d83a:40c0:93a1|:443... connected.\n",
      "WARNING: cannot verify www.ecdc.europa.eu's certificate, issued by ‘CN=Amazon,OU=Server CA 1B,O=Amazon,C=US’:\n",
      "  Unable to locally verify the issuer's authority.\n",
      "HTTP request sent, awaiting response... 200 OK\n",
      "Length: 219317 (214K) [application/vnd.openxmlformats-officedocument.spreadsheetml.sheet]\n",
      "Saving to: ‘COVID-19-geographic-disbtribution-worldwide-2020-03-19.xlsx.1’\n",
      "\n",
      "COVID-19-geographic 100%[===================>] 214.18K   796KB/s    in 0.3s    \n",
      "\n",
      "2020-03-19 10:36:59 (796 KB/s) - ‘COVID-19-geographic-disbtribution-worldwide-2020-03-19.xlsx.1’ saved [219317/219317]\n",
      "\n"
     ]
    }
   ],
   "source": [
    "url=\"https://www.ecdc.europa.eu/sites/default/files/documents/COVID-19-geographic-disbtribution-worldwide-2020-\"+\"{0:0=2d}\".format(today_month)+\"-\"+\"{0:0=2d}\".format(today_day)+\".xlsx\"\n",
    "! wget $url --no-check-certificate"
   ]
  },
  {
   "cell_type": "code",
   "execution_count": 50,
   "metadata": {},
   "outputs": [
    {
     "data": {
      "text/html": [
       "<div>\n",
       "<style scoped>\n",
       "    .dataframe tbody tr th:only-of-type {\n",
       "        vertical-align: middle;\n",
       "    }\n",
       "\n",
       "    .dataframe tbody tr th {\n",
       "        vertical-align: top;\n",
       "    }\n",
       "\n",
       "    .dataframe thead th {\n",
       "        text-align: right;\n",
       "    }\n",
       "</style>\n",
       "<table border=\"1\" class=\"dataframe\">\n",
       "  <thead>\n",
       "    <tr style=\"text-align: right;\">\n",
       "      <th></th>\n",
       "      <th>DateRep</th>\n",
       "      <th>Day</th>\n",
       "      <th>Month</th>\n",
       "      <th>Year</th>\n",
       "      <th>Cases</th>\n",
       "      <th>Deaths</th>\n",
       "      <th>Countries and territories</th>\n",
       "      <th>GeoId</th>\n",
       "    </tr>\n",
       "  </thead>\n",
       "  <tbody>\n",
       "    <tr>\n",
       "      <th>0</th>\n",
       "      <td>2020-03-19</td>\n",
       "      <td>19</td>\n",
       "      <td>3</td>\n",
       "      <td>2020</td>\n",
       "      <td>0</td>\n",
       "      <td>0</td>\n",
       "      <td>Afghanistan</td>\n",
       "      <td>AF</td>\n",
       "    </tr>\n",
       "    <tr>\n",
       "      <th>1</th>\n",
       "      <td>2020-03-18</td>\n",
       "      <td>18</td>\n",
       "      <td>3</td>\n",
       "      <td>2020</td>\n",
       "      <td>1</td>\n",
       "      <td>0</td>\n",
       "      <td>Afghanistan</td>\n",
       "      <td>AF</td>\n",
       "    </tr>\n",
       "    <tr>\n",
       "      <th>2</th>\n",
       "      <td>2020-03-17</td>\n",
       "      <td>17</td>\n",
       "      <td>3</td>\n",
       "      <td>2020</td>\n",
       "      <td>5</td>\n",
       "      <td>0</td>\n",
       "      <td>Afghanistan</td>\n",
       "      <td>AF</td>\n",
       "    </tr>\n",
       "    <tr>\n",
       "      <th>3</th>\n",
       "      <td>2020-03-16</td>\n",
       "      <td>16</td>\n",
       "      <td>3</td>\n",
       "      <td>2020</td>\n",
       "      <td>6</td>\n",
       "      <td>0</td>\n",
       "      <td>Afghanistan</td>\n",
       "      <td>AF</td>\n",
       "    </tr>\n",
       "    <tr>\n",
       "      <th>4</th>\n",
       "      <td>2020-03-15</td>\n",
       "      <td>15</td>\n",
       "      <td>3</td>\n",
       "      <td>2020</td>\n",
       "      <td>3</td>\n",
       "      <td>0</td>\n",
       "      <td>Afghanistan</td>\n",
       "      <td>AF</td>\n",
       "    </tr>\n",
       "  </tbody>\n",
       "</table>\n",
       "</div>"
      ],
      "text/plain": [
       "     DateRep  Day  Month  Year  Cases  Deaths Countries and territories GeoId\n",
       "0 2020-03-19   19      3  2020      0       0               Afghanistan    AF\n",
       "1 2020-03-18   18      3  2020      1       0               Afghanistan    AF\n",
       "2 2020-03-17   17      3  2020      5       0               Afghanistan    AF\n",
       "3 2020-03-16   16      3  2020      6       0               Afghanistan    AF\n",
       "4 2020-03-15   15      3  2020      3       0               Afghanistan    AF"
      ]
     },
     "execution_count": 50,
     "metadata": {},
     "output_type": "execute_result"
    }
   ],
   "source": [
    "today_day = date.today().day\n",
    "today_month = date.today().month\n",
    "data_fname = 'COVID-19-geographic-disbtribution-worldwide-2020-'+\"{0:0=2d}\".format(today_month)+\"-\"+\"{0:0=2d}\".format(today_day)+'.xlsx'\n",
    "dat = pd.read_excel(data_fname)\n",
    "dat.head()"
   ]
  },
  {
   "cell_type": "code",
   "execution_count": 51,
   "metadata": {},
   "outputs": [],
   "source": [
    "Countries = ['Italy','China','United_States_of_America','South_Korea','Iran','Canada']"
   ]
  },
  {
   "cell_type": "markdown",
   "metadata": {},
   "source": [
    "If we assume a 30 day window of transmission, i.e. after 30 days the virus is no longer transmissible, then we can obtain a value for the # of active transmitters by taking the difference between the cumulative cases up to today and the cumulative cases from 30 days ago"
   ]
  },
  {
   "cell_type": "code",
   "execution_count": 52,
   "metadata": {},
   "outputs": [
    {
     "data": {
      "image/png": "[encoded data removed]",
      "text/plain": [
       "<Figure size 432x288 with 1 Axes>"
      ]
     },
     "metadata": {},
     "output_type": "display_data"
    }
   ],
   "source": [
    "dat['DateRep']= pd.to_datetime(dat['DateRep'])\n",
    "fig, ax = plt.subplots()\n",
    "for c in Countries:\n",
    "    # find all rows corresponding to country c\n",
    "    DF = dat[dat['Countries and territories']==c].sort_values('DateRep')\n",
    "    \n",
    "    # cumulative sum of cases - cumulative sum of cases 30 days ago\n",
    "    # i.e. all new cases from the past 30 days\n",
    "    DF['DiffCases'] = DF['Cases'].cumsum().diff(30)\n",
    "    DF = DF[['DateRep','DiffCases']].dropna()\n",
    "\n",
    "    plt.plot(DF['DateRep'],DF['DiffCases'])\n",
    "    \n",
    "    # only show every other date tick (avoid clutter)\n",
    "    every_nth = 2\n",
    "    for n, label in enumerate(ax.xaxis.get_ticklabels()):\n",
    "        if n % every_nth != 0:\n",
    "            label.set_visible(False)\n",
    "plt.legend(Countries)\n",
    "plt.ylabel('Active Transmitters')\n",
    "plt.show()"
   ]
  },
  {
   "cell_type": "code",
   "execution_count": null,
   "metadata": {},
   "outputs": [],
   "source": []
  }
 ],
 "metadata": {
  "kernelspec": {
   "display_name": "Python 3",
   "language": "python",
   "name": "python3"
  },
  "language_info": {
   "codemirror_mode": {
    "name": "ipython",
    "version": 3
   },
   "file_extension": ".py",
   "mimetype": "text/x-python",
   "name": "python",
   "nbconvert_exporter": "python",
   "pygments_lexer": "ipython3",
   "version": "3.6.5"
  }
 },
 "nbformat": 4,
 "nbformat_minor": 2
}
